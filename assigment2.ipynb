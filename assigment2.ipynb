{
 "cells": [
  {
   "cell_type": "code",
   "execution_count": 6,
   "id": "d553742b",
   "metadata": {},
   "outputs": [],
   "source": [
    "import pandas as pd\n",
    "flightdata = pd.read_csv(\"flights.csv\")\n",
    "# print(flightdata)"
   ]
  },
  {
   "cell_type": "code",
   "execution_count": null,
   "id": "7a49960f",
   "metadata": {},
   "outputs": [],
   "source": [
    "answer to question 1a.\n",
    "flighdata.groupby(['dest']).count().loc['IAH','HOU'][\"flight\"].sum()"
   ]
  },
  {
   "cell_type": "code",
   "execution_count": null,
   "id": "1d669c95",
   "metadata": {},
   "outputs": [],
   "source": [
    "answer to question 1b.\n",
    "flighdata.groupby(['carrier']).count().loc[\"US\",\"UA\",\"DL\"][\"flight\"].sum()"
   ]
  },
  {
   "cell_type": "code",
   "execution_count": null,
   "id": "d6a839ff",
   "metadata": {},
   "outputs": [],
   "source": [
    "answer to question 1c.\n",
    "flighdata.groupby(['month']).count().loc[7,89][\"flight\"]"
   ]
  },
  {
   "cell_type": "code",
   "execution_count": null,
   "id": "3d950de2",
   "metadata": {},
   "outputs": [],
   "source": [
    "answer to question 1d.\n",
    "(flightdata[\"arr_delay\"]>120)& (flightdata[\"dep_delay\"]<1).sum()"
   ]
  },
  {
   "cell_type": "code",
   "execution_count": null,
   "id": "db9a08f1",
   "metadata": {},
   "outputs": [],
   "source": []
  }
 ],
 "metadata": {
  "kernelspec": {
   "display_name": "Python 3",
   "language": "python",
   "name": "python3"
  },
  "language_info": {
   "codemirror_mode": {
    "name": "ipython",
    "version": 3
   },
   "file_extension": ".py",
   "mimetype": "text/x-python",
   "name": "python",
   "nbconvert_exporter": "python",
   "pygments_lexer": "ipython3",
   "version": "3.7.4"
  }
 },
 "nbformat": 4,
 "nbformat_minor": 5
}
